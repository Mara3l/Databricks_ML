{
 "cells": [
  {
   "cell_type": "code",
   "execution_count": null,
   "metadata": {
    "application/vnd.databricks.v1+cell": {
     "cellMetadata": {
      "byteLimit": 2048000,
      "rowLimit": 10000
     },
     "inputWidgets": {},
     "nuid": "22353521-45cb-44b8-b145-5f8fe2c7eeab",
     "showTitle": false,
     "title": ""
    }
   },
   "outputs": [],
   "source": [
    "%pip install gooddata-pandas"
   ]
  },
  {
   "cell_type": "code",
   "execution_count": null,
   "metadata": {
    "application/vnd.databricks.v1+cell": {
     "cellMetadata": {
      "byteLimit": 2048000,
      "rowLimit": 10000
     },
     "inputWidgets": {},
     "nuid": "d8338c17-5f52-4d7e-9fe5-886d088e849d",
     "showTitle": false,
     "title": ""
    }
   },
   "outputs": [],
   "source": [
    "from gooddata_pandas import GoodPandas\n",
    "\n",
    "host = \"YOUR HOST\"\n",
    "token = \"GD_TOKEN\"\n",
    "\n",
    "gp = GoodPandas(host, token)\n",
    "\n",
    "\n",
    "metric_name = \"Stock_Price\"\n",
    "workspace_id = \"GD_WORKSPACE\"\n",
    "\n",
    "\n",
    "frames = gp.data_frames(workspace_id)\n",
    "\n",
    "df = frames.for_visualization(\"GD_VISUALIZATION\")\n"
   ]
  },
  {
   "cell_type": "code",
   "execution_count": null,
   "metadata": {
    "application/vnd.databricks.v1+cell": {
     "cellMetadata": {
      "byteLimit": 2048000,
      "rowLimit": 10000
     },
     "inputWidgets": {},
     "nuid": "509cdb71-b654-4470-9971-5fe3b052e34a",
     "showTitle": false,
     "title": ""
    }
   },
   "outputs": [],
   "source": [
    "df.head()"
   ]
  },
  {
   "cell_type": "code",
   "execution_count": null,
   "metadata": {
    "application/vnd.databricks.v1+cell": {
     "cellMetadata": {
      "byteLimit": 2048000,
      "rowLimit": 10000
     },
     "inputWidgets": {},
     "nuid": "0191fb6d-db1d-4332-b6a0-a56a58273e24",
     "showTitle": false,
     "title": ""
    }
   },
   "outputs": [],
   "source": [
    "df.columns"
   ]
  },
  {
   "cell_type": "code",
   "execution_count": null,
   "metadata": {
    "application/vnd.databricks.v1+cell": {
     "cellMetadata": {
      "byteLimit": 2048000,
      "rowLimit": 10000
     },
     "inputWidgets": {},
     "nuid": "a3abf327-ef77-43c0-892e-d2e74bfc62e2",
     "showTitle": false,
     "title": ""
    }
   },
   "outputs": [],
   "source": [
    "from statsmodels.tsa.arima.model import ARIMA\n",
    "import mlflow\n",
    "import mlflow.pyfunc\n",
    "\n",
    "def train_arima_model(data, order=(5,1,0)):\n",
    "    model = ARIMA(data, order=order)\n",
    "    model_fit = model.fit()\n",
    "    return model_fit\n",
    "\n",
    "arima_model = train_arima_model(df[metric_name])\n",
    "\n",
    "forecast_steps = 5 # Forecast next 5 months\n",
    "forecast = arima_model.forecast(steps=forecast_steps)\n",
    "print(forecast)"
   ]
  },
  {
   "cell_type": "code",
   "execution_count": null,
   "metadata": {
    "application/vnd.databricks.v1+cell": {
     "cellMetadata": {
      "byteLimit": 2048000,
      "rowLimit": 10000
     },
     "inputWidgets": {},
     "nuid": "f6c02948-0169-451a-8494-59d125c3346d",
     "showTitle": false,
     "title": ""
    }
   },
   "outputs": [],
   "source": [
    "from statsmodels.tsa.arima.model import ARIMA\n",
    "import mlflow\n",
    "import mlflow.pyfunc\n",
    "import pandas as pd\n",
    "\n",
    "class ArimaModelWrapper(mlflow.pyfunc.PythonModel):\n",
    "    def __init__(self, model):\n",
    "        self.model = model\n",
    "\n",
    "    def predict(self, context, model_input):\n",
    "        return self.model.forecast(steps=len(model_input))\n",
    "\n",
    "def train_arima_model(data, order=(5,1,0)):\n",
    "    model = ARIMA(data, order=order)\n",
    "    model_fit = model.fit()\n",
    "    return model_fit\n",
    "\n",
    "arima_model = train_arima_model(df[metric_name])\n",
    "\n",
    "forecast_steps = 5\n",
    "forecast = arima_model.forecast(steps=forecast_steps)\n",
    "print(forecast)\n",
    "\n",
    "wrapped_model = ArimaModelWrapper(model=arima_model)\n",
    "\n",
    "# Log the model with MLflow\n",
    "with mlflow.start_run() as run:\n",
    "    mlflow.pyfunc.log_model(\n",
    "        artifact_path=\"arima_model\",\n",
    "        python_model=wrapped_model\n",
    "    )\n",
    "\n",
    "# Load the model for prediction\n",
    "logged_model = f\"runs:/{run.info.run_id}/arima_model\"\n",
    "loaded_model = mlflow.pyfunc.load_model(logged_model)\n",
    "\n",
    "# Make predictions with the loaded model\n",
    "model_input = pd.DataFrame([0]*forecast_steps)  # Dummy input for the forecast steps\n",
    "predictions = loaded_model.predict(model_input)\n",
    "print(predictions)\n"
   ]
  },
  {
   "cell_type": "code",
   "execution_count": null,
   "metadata": {
    "application/vnd.databricks.v1+cell": {
     "cellMetadata": {
      "byteLimit": 2048000,
      "rowLimit": 10000
     },
     "inputWidgets": {},
     "nuid": "d63c8719-fedb-4e3d-b2b8-df275a75fd98",
     "showTitle": false,
     "title": ""
    }
   },
   "outputs": [],
   "source": [
    "CATALOG_NAME = \"main\"\n",
    "SCHEMA_NAME = \"default\""
   ]
  },
  {
   "cell_type": "code",
   "execution_count": null,
   "metadata": {
    "application/vnd.databricks.v1+cell": {
     "cellMetadata": {
      "byteLimit": 2048000,
      "rowLimit": 10000
     },
     "inputWidgets": {},
     "nuid": "73d939f8-66b1-41b7-9c93-a1d6b2ee6ee6",
     "showTitle": false,
     "title": ""
    }
   },
   "outputs": [],
   "source": [
    "run_id = mlflow.search_runs(filter_string='tags.mlflow.runName = \"kindly-owl-169\"').iloc[0].run_id"
   ]
  },
  {
   "cell_type": "code",
   "execution_count": null,
   "metadata": {
    "application/vnd.databricks.v1+cell": {
     "cellMetadata": {
      "byteLimit": 2048000,
      "rowLimit": 10000
     },
     "inputWidgets": {},
     "nuid": "cd4e9c34-53f8-4954-9166-5eeb91e0e9cf",
     "showTitle": false,
     "title": ""
    }
   },
   "outputs": [],
   "source": [
    "# Register the model to Unity Catalog. \n",
    "model_name = f\"ARIMA_PREDICTIONS_STOCK_PRICE\"\n",
    "model_version = mlflow.register_model(f\"runs:/{run_id}/arima_model\", model_name)\n",
    "\n",
    "import time\n",
    "# Registering the model takes a few seconds, so add a small delay\n",
    "time.sleep(15)"
   ]
  }
 ],
 "metadata": {
  "application/vnd.databricks.v1+notebook": {
   "dashboards": [],
   "environmentMetadata": null,
   "language": "python",
   "notebookMetadata": {
    "pythonIndentUnit": 4
   },
   "notebookName": "Untitled Notebook 2024-07-30 07:53:27",
   "widgets": {}
  },
  "language_info": {
   "name": "python"
  }
 },
 "nbformat": 4,
 "nbformat_minor": 0
}
